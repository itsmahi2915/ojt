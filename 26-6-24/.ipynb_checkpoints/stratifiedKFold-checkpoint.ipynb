{
 "cells": [
  {
   "cell_type": "code",
   "execution_count": 1,
   "id": "9fc195d8-81e7-4c41-8996-cb9ecb4d3d75",
   "metadata": {},
   "outputs": [],
   "source": [
    "from sklearn.model_selection import StratifiedKFold\n",
    "from sklearn.linear_model import LogisticRegression\n",
    "from sklearn.metrics import accuracy_score \n",
    "import numpy as np"
   ]
  },
  {
   "cell_type": "code",
   "execution_count": 6,
   "id": "6ec55da7-4ae6-4803-aca2-d9e3b0aa4017",
   "metadata": {},
   "outputs": [
    {
     "name": "stdout",
     "output_type": "stream",
     "text": [
      "Acerage Accuracy: 1.0\n"
     ]
    }
   ],
   "source": [
    "x = np.array([[1,2], [3,4], [1,2], [3,4], [1,2], [3,4]])\n",
    "y = np.array([0,1,0,1,0,1])\n",
    "\n",
    "skf = StratifiedKFold(n_splits=3, shuffle = True, random_state=42)\n",
    "model = LogisticRegression()\n",
    "accuracies = []\n",
    "\n",
    "for train_index, test_index in skf.split(x,y): \n",
    "    x_train,x_test = x[train_index],x[test_index]\n",
    "    y_train,y_test = y[train_index],y[test_index]\n",
    "\n",
    "    model.fit(x_train,y_train)\n",
    "    predictions = model.predict(x_test)\n",
    "    accuracy = accuracy_score(y_test, predictions)\n",
    "    accuracies.append(accuracy)\n",
    "print(f\"Acerage Accuracy: {np.mean(accuracies)}\")"
   ]
  },
  {
   "cell_type": "code",
   "execution_count": null,
   "id": "8665fe0e-0a47-42be-89c8-2def2d872ea7",
   "metadata": {},
   "outputs": [],
   "source": []
  }
 ],
 "metadata": {
  "kernelspec": {
   "display_name": "Python 3 (ipykernel)",
   "language": "python",
   "name": "python3"
  },
  "language_info": {
   "codemirror_mode": {
    "name": "ipython",
    "version": 3
   },
   "file_extension": ".py",
   "mimetype": "text/x-python",
   "name": "python",
   "nbconvert_exporter": "python",
   "pygments_lexer": "ipython3",
   "version": "3.12.0"
  }
 },
 "nbformat": 4,
 "nbformat_minor": 5
}
