{
 "cells": [
  {
   "cell_type": "code",
   "execution_count": null,
   "id": "06c34e9a-82d7-46b4-b176-94f1305da243",
   "metadata": {},
   "outputs": [],
   "source": []
  }
 ],
 "metadata": {
  "kernelspec": {
   "display_name": "",
   "name": ""
  },
  "language_info": {
   "name": ""
  }
 },
 "nbformat": 4,
 "nbformat_minor": 5
}
