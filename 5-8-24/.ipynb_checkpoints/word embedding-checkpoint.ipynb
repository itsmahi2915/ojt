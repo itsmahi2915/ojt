{
 "cells": [
  {
   "cell_type": "code",
   "execution_count": 11,
   "id": "0debbe49-2c0a-4c46-85c0-25ec50aa51ab",
   "metadata": {},
   "outputs": [],
   "source": [
    "import tensorflow\n",
    "from tensorflow import keras\n",
    "import numpy as np\n",
    "from tensorflow.keras.utils import pad_sequences"
   ]
  },
  {
   "cell_type": "code",
   "execution_count": 12,
   "id": "982d2c8f-6769-4625-86c7-df4a2ebc0a84",
   "metadata": {},
   "outputs": [],
   "source": [
    "data = [\n",
    "    'good product',\n",
    "    'loved it', \n",
    "    'highly recommended', \n",
    "    'will buy again', \n",
    "    'horrible', \n",
    "    'do not buy', \n",
    "    'poor quality'\n",
    "]\n",
    "\n",
    "values = np.array([1,1,1,1,0,0,0])"
   ]
  },
  {
   "cell_type": "code",
   "execution_count": 13,
   "id": "99307022-c26d-4ad9-a09c-ead5ee06bee0",
   "metadata": {},
   "outputs": [],
   "source": [
    "from tensorflow.keras.preprocessing.text import one_hot"
   ]
  },
  {
   "cell_type": "code",
   "execution_count": 14,
   "id": "4545c6e8-ca3c-4e52-bd74-094c72b1cdff",
   "metadata": {},
   "outputs": [
    {
     "data": {
      "text/plain": [
       "[142, 134]"
      ]
     },
     "execution_count": 14,
     "metadata": {},
     "output_type": "execute_result"
    }
   ],
   "source": [
    "one_hot('good product',150)"
   ]
  },
  {
   "cell_type": "code",
   "execution_count": 15,
   "id": "9b699435-7adc-40a8-8c8c-3ba378e775fe",
   "metadata": {},
   "outputs": [
    {
     "data": {
      "text/plain": [
       "[77, 119, 133]"
      ]
     },
     "execution_count": 15,
     "metadata": {},
     "output_type": "execute_result"
    }
   ],
   "source": [
    "one_hot('do not buy',150) #vocab size = 150"
   ]
  },
  {
   "cell_type": "code",
   "execution_count": 16,
   "id": "7aafe799-7476-4a08-9845-de28cdd8f583",
   "metadata": {},
   "outputs": [
    {
     "data": {
      "text/plain": [
       "[95, 17]"
      ]
     },
     "execution_count": 16,
     "metadata": {},
     "output_type": "execute_result"
    }
   ],
   "source": [
    "one_hot('highly recommended', 150)"
   ]
  },
  {
   "cell_type": "code",
   "execution_count": 17,
   "id": "ecdba0a9-de65-431d-a007-ca2976b1bea6",
   "metadata": {},
   "outputs": [],
   "source": [
    "vocab_size = 150"
   ]
  },
  {
   "cell_type": "code",
   "execution_count": 18,
   "id": "6aa055cd-fe76-4aae-9da6-3b239143f0bc",
   "metadata": {},
   "outputs": [
    {
     "name": "stdout",
     "output_type": "stream",
     "text": [
      "good product\n",
      "loved it\n",
      "highly recommended\n",
      "will buy again\n",
      "horrible\n",
      "do not buy\n",
      "poor quality\n"
     ]
    }
   ],
   "source": [
    "for d in data: \n",
    "    print(d)"
   ]
  },
  {
   "cell_type": "code",
   "execution_count": 19,
   "id": "7f917871-a545-40f7-97fe-c1ed80546c2b",
   "metadata": {},
   "outputs": [
    {
     "data": {
      "text/plain": [
       "[[142, 134],\n",
       " [95, 79],\n",
       " [95, 17],\n",
       " [112, 133, 100],\n",
       " [45],\n",
       " [77, 119, 133],\n",
       " [53, 3]]"
      ]
     },
     "execution_count": 19,
     "metadata": {},
     "output_type": "execute_result"
    }
   ],
   "source": [
    "enc_r = [one_hot(d, vocab_size) for d in data]\n",
    "enc_r"
   ]
  },
  {
   "cell_type": "code",
   "execution_count": 23,
   "id": "d279f715-295d-46fb-977b-d611e38a2820",
   "metadata": {},
   "outputs": [
    {
     "ename": "NameError",
     "evalue": "name 'r_lenght' is not defined",
     "output_type": "error",
     "traceback": [
      "\u001b[1;31m---------------------------------------------------------------------------\u001b[0m",
      "\u001b[1;31mNameError\u001b[0m                                 Traceback (most recent call last)",
      "Cell \u001b[1;32mIn[23], line 3\u001b[0m\n\u001b[0;32m      1\u001b[0m r_length \u001b[38;5;241m=\u001b[39m \u001b[38;5;241m6\u001b[39m \n\u001b[0;32m      2\u001b[0m \u001b[38;5;66;03m#from tensorflow.keras.preprocessing.sequence import pad_sequence\u001b[39;00m\n\u001b[1;32m----> 3\u001b[0m enc_r1 \u001b[38;5;241m=\u001b[39m pad_sequences(enc_r, maxlen \u001b[38;5;241m=\u001b[39m \u001b[43mr_lenght\u001b[49m)\n",
      "\u001b[1;31mNameError\u001b[0m: name 'r_lenght' is not defined"
     ]
    }
   ],
   "source": [
    "r_length = 6 \n",
    "#from tensorflow.keras.preprocessing.sequence import pad_sequence\n",
    "enc_r1 = pad_sequences(enc_r, maxlen = r_lenght)"
   ]
  },
  {
   "cell_type": "code",
   "execution_count": 24,
   "id": "6164c406-8e6b-4542-8d30-f3356179b433",
   "metadata": {},
   "outputs": [
    {
     "ename": "NameError",
     "evalue": "name 'enc_r1' is not defined",
     "output_type": "error",
     "traceback": [
      "\u001b[1;31m---------------------------------------------------------------------------\u001b[0m",
      "\u001b[1;31mNameError\u001b[0m                                 Traceback (most recent call last)",
      "Cell \u001b[1;32mIn[24], line 1\u001b[0m\n\u001b[1;32m----> 1\u001b[0m \u001b[43menc_r1\u001b[49m\n",
      "\u001b[1;31mNameError\u001b[0m: name 'enc_r1' is not defined"
     ]
    }
   ],
   "source": [
    "enc_r1"
   ]
  },
  {
   "cell_type": "code",
   "execution_count": null,
   "id": "709641e8-d022-4bc7-8aab-b62b4d0d39c3",
   "metadata": {},
   "outputs": [],
   "source": []
  }
 ],
 "metadata": {
  "kernelspec": {
   "display_name": "Python 3 (ipykernel)",
   "language": "python",
   "name": "python3"
  },
  "language_info": {
   "codemirror_mode": {
    "name": "ipython",
    "version": 3
   },
   "file_extension": ".py",
   "mimetype": "text/x-python",
   "name": "python",
   "nbconvert_exporter": "python",
   "pygments_lexer": "ipython3",
   "version": "3.12.0"
  }
 },
 "nbformat": 4,
 "nbformat_minor": 5
}
