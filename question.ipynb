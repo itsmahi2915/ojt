{
 "cells": [
  {
   "cell_type": "code",
   "execution_count": 1,
   "id": "58b17765-b5cb-4c91-919f-456f7f568bc8",
   "metadata": {},
   "outputs": [
    {
     "name": "stdout",
     "output_type": "stream",
     "text": [
      "Mahi\n",
      "23\n",
      "Panipat\n"
     ]
    }
   ],
   "source": [
    "#Write a program to display a person's name , age and address in three different lines.\n",
    "name =\"Mahi\";\n",
    "age = 23 ;\n",
    "address = \"Panipat\"\n",
    "print(name)\n",
    "print(age)\n",
    "print(address)"
   ]
  },
  {
   "cell_type": "code",
   "execution_count": 7,
   "id": "8ccb652e-6bba-40ed-a425-cbb3e02329a3",
   "metadata": {},
   "outputs": [
    {
     "name": "stdout",
     "output_type": "stream",
     "text": [
      "value of x is  10\n",
      "value of y is  12\n"
     ]
    }
   ],
   "source": [
    "#Write a program to swap two variables.\n",
    "x = 12\n",
    "y = 10\n",
    "temp = x\n",
    "#print(temp)\n",
    "x = y\n",
    "y = temp\n",
    "print(\"value of x is \",x)\n",
    "print(\"value of y is \",y)"
   ]
  },
  {
   "cell_type": "code",
   "execution_count": 11,
   "id": "8ea2df5a-3181-4d68-826d-95cabbeebda1",
   "metadata": {},
   "outputs": [
    {
     "name": "stdout",
     "output_type": "stream",
     "text": [
      "Value of a is:  5\n",
      "Value of b is:  2\n"
     ]
    }
   ],
   "source": [
    "#step 2nd\n",
    "a = 2;\n",
    "b = 5;\n",
    "a,b = b,a\n",
    "print(\"Value of a is: \",a)\n",
    "print(\"Value of b is: \",b)\n",
    "#swap value right to left = left to right."
   ]
  },
  {
   "cell_type": "code",
   "execution_count": 15,
   "id": "0c188a77-50d7-45d9-9107-08361ecd2351",
   "metadata": {},
   "outputs": [
    {
     "name": "stdout",
     "output_type": "stream",
     "text": [
      "1.23\n",
      "<class 'int'>\n",
      "1\n"
     ]
    }
   ],
   "source": [
    "# Write a program to conver a flaot into interger.\n",
    "x = 1.23\n",
    "print(x)\n",
    "x = int(x)\n",
    "print(type(x))\n",
    "print(x)"
   ]
  },
  {
   "cell_type": "code",
   "execution_count": 25,
   "id": "93ebb315-89ce-40df-979c-44a9226ecc6d",
   "metadata": {},
   "outputs": [
    {
     "name": "stdin",
     "output_type": "stream",
     "text": [
      "Enter the Name of the Student :  Manisha\n",
      "Enter  the age of the Student  : 24\n",
      "Enter the grade of the Stuent : I\n",
      "Enter the mail_id of the Student : mk\n",
      "Enter the phone no of the Student : 59695\n"
     ]
    },
    {
     "name": "stdout",
     "output_type": "stream",
     "text": [
      "name:  Manisha\n",
      "age:  24\n",
      "grade:  I\n",
      "e_mail:  mk\n",
      "phn_no:  59695\n",
      "Student Identity Card\n"
     ]
    }
   ],
   "source": [
    "#Write a program to take details from a students for ID-card and then print it in different Lines.\n",
    "\n",
    "name = input(\"Enter the Name of the Student : \");\n",
    "age = int(input(\"Enter  the age of the Student  :\"));\n",
    "grade = input(\"Enter the grade of the Stuent :\");\n",
    "e_mail = input(\"Enter the mail_id of the Student :\");\n",
    "phn_no = input(\"Enter the phone no of the Student :\");\n",
    "print(\"name: \", name);\n",
    "print(\"age: \", age);\n",
    "print(\"grade: \", grade);\n",
    "print(\"e_mail: \", e_mail);\n",
    "print(\"phn_no: \" ,phn_no);\n",
    "print(\"Student Identity Card\")\n"
   ]
  },
  {
   "cell_type": "code",
   "execution_count": 29,
   "id": "f342cbdd-161f-4bbc-a44b-d3ba85b495e5",
   "metadata": {},
   "outputs": [
    {
     "name": "stdin",
     "output_type": "stream",
     "text": [
      "enter a number here:  10\n"
     ]
    },
    {
     "name": "stdout",
     "output_type": "stream",
     "text": [
      "10\n",
      "<class 'int'>\n",
      "after convertion:  10.0\n",
      "<class 'float'>\n"
     ]
    }
   ],
   "source": [
    "# Write a program to take an user imput as integer then convert it to float.\n",
    "a = int(input(\"enter a number here: \"))\n",
    "print(a)\n",
    "print(type(a))\n",
    "a = float(a)\n",
    "print(\"after convertion: \" ,a)\n",
    "print(type(a))"
   ]
  },
  {
   "cell_type": "code",
   "execution_count": null,
   "id": "58ccfa1d-fb9d-408b-80e4-512bd29f5d41",
   "metadata": {},
   "outputs": [],
   "source": []
  }
 ],
 "metadata": {
  "kernelspec": {
   "display_name": "Python 3 (ipykernel)",
   "language": "python",
   "name": "python3"
  },
  "language_info": {
   "codemirror_mode": {
    "name": "ipython",
    "version": 3
   },
   "file_extension": ".py",
   "mimetype": "text/x-python",
   "name": "python",
   "nbconvert_exporter": "python",
   "pygments_lexer": "ipython3",
   "version": "3.12.0"
  }
 },
 "nbformat": 4,
 "nbformat_minor": 5
}
