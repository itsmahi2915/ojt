{
 "cells": [
  {
   "cell_type": "raw",
   "id": "c1d35c4f-515d-45e3-b6b0-c67ee8976931",
   "metadata": {},
   "source": [
    "Task 1:- Simple Calculation\n",
    "You have a dataset with product prices and quantities sold.\n",
    "Goal:Calculate the total revenue generated for each product by multiplying price by quantity"
   ]
  },
  {
   "cell_type": "raw",
   "id": "e33164b0-acb4-44b5-bbe5-35765e78742d",
   "metadata": {},
   "source": [
    "Dataset:- I have a table that lists product , their prices, and the quantities sold.\n",
    "Goal: find out how much money was made from each product."
   ]
  },
  {
   "cell_type": "code",
   "execution_count": 10,
   "id": "1332eda9-8b90-49df-9f64-d3c0284f3b0d",
   "metadata": {},
   "outputs": [
    {
     "name": "stdout",
     "output_type": "stream",
     "text": [
      "   Product  Price  Quantity  Revenue\n",
      "0   Apples     10        10      100\n",
      "1  Bananas      7        20      140\n",
      "2  Oranges     15        15      225\n",
      "3    Mango     20        10      200\n"
     ]
    }
   ],
   "source": [
    "import pandas as pd   #import pandas library\n",
    "\n",
    "data = {'Product': ['Apples', 'Bananas', 'Oranges','Mango'],\n",
    "        'Price': [10, 7, 15,20],\n",
    "        'Quantity': [10, 20, 15,10]}    # The Dictonary represent this data.\n",
    "\n",
    "df = pd.DataFrame(data) # create a dataframe object from the data dictionary using the pd.DataFrame constructor.\n",
    "\n",
    "df['Revenue'] = df['Price'] * df['Quantity']  # calculates the revenue for each product by multiplying the price and quantity columns.\n",
    "\n",
    "print(df)"
   ]
  },
  {
   "cell_type": "raw",
   "id": "3794254f-26e8-4d49-8558-868b737679f7",
   "metadata": {},
   "source": [
    "Task 2:-Extracting Information from Strings \n",
    "Scenario: You have a list of email addresses.\n",
    "Goal: Extract the username (part before the \"@\" symbol) from each email address. "
   ]
  },
  {
   "cell_type": "code",
   "execution_count": 16,
   "id": "ac44d008-8172-4723-889f-8bcdc01f397a",
   "metadata": {},
   "outputs": [
    {
     "name": "stdout",
     "output_type": "stream",
     "text": [
      "Username: manisha\n",
      "Username: sakshi\n",
      "Username: mahi\n",
      "Username: aarti\n",
      "Username: saku\n"
     ]
    }
   ],
   "source": [
    "email_addresses = [\"manisha@gmail.com\", \"sakshi@gmail.com\", \"mahi@gmail.com\",\"aarti@gmail.com\",\"saku@gmail.com\"]\n",
    "\n",
    "for email in email_addresses:\n",
    "    username = email.split(\"@\")[0]\n",
    "    print(f\"Username: {username}\")"
   ]
  },
  {
   "cell_type": "raw",
   "id": "b3625152-4e4c-4f0c-a263-e9aa31cc42ec",
   "metadata": {},
   "source": [
    "Task3:- Simple Conditional Statements \n",
    "Scenario: You have a list of product prices and a discount percentage. \n",
    "Goal: Write code to calculate the final price for each product after applying the discount. "
   ]
  },
  {
   "cell_type": "code",
   "execution_count": 26,
   "id": "5f138981-a751-4678-91e3-0bb27653c325",
   "metadata": {},
   "outputs": [
    {
     "name": "stdout",
     "output_type": "stream",
     "text": [
      "47.5\n",
      "38.0\n",
      "57.0\n",
      "76.0\n",
      "85.5\n",
      "95.0\n"
     ]
    }
   ],
   "source": [
    "prices = [50, 40, 60, 80,90,100]\n",
    "discount_percentage = 5\n",
    "\n",
    "# Calculate the discount amount for each product.\n",
    "discounts = [price * discount_percentage / 100 for price in prices]\n",
    "\n",
    "# Calculate the final price for each product.\n",
    "final_prices = [price - discount for price, discount in zip(prices, discounts)]\n",
    "\n",
    "# Print the final prices.\n",
    "for final_price in final_prices:\n",
    "    print(final_price)"
   ]
  },
  {
   "cell_type": "raw",
   "id": "6d2e8d5a-e573-4a7e-9b60-f41c314be740",
   "metadata": {},
   "source": [
    "Task 4:- Sorting Data \n",
    "Scenario: You have a DataFrame containing product information with prices and ratings. \n",
    "Goal: Sort the DataFrame by: \n",
    "Price (ascending order - cheapest to most expensive). \n",
    "Rating (descending order - highest to lowest rating)."
   ]
  },
  {
   "cell_type": "code",
   "execution_count": 31,
   "id": "07b92ff4-9470-4c60-8b67-205947d2ceea",
   "metadata": {},
   "outputs": [
    {
     "name": "stdout",
     "output_type": "stream",
     "text": [
      "  Product  Price  Rating\n",
      "2       C      8       2\n",
      "0       A     10       2\n",
      "4       E     12       4\n",
      "3       D     15       3\n",
      "1       B     25       3\n"
     ]
    }
   ],
   "source": [
    "import pandas as pd\n",
    "\n",
    "# Sample Data (replace with your actual DataFrame)\n",
    "data = {\n",
    "    'Product': ['A', 'B', 'C', 'D', 'E'],\n",
    "    'Price': [10, 25, 8, 15, 12],\n",
    "    'Rating': [2, 3, 2, 3, 4]\n",
    "}\n",
    "df = pd.DataFrame(data)  ## create a dataframe object from the data dictionary using the pd.DataFrame constructor.\n",
    "\n",
    "# Sort by Price (ascending) and then by Rating (descending)\n",
    "df_sorted = df.sort_values(by=['Price', 'Rating'], ascending=[True, False])\n",
    "\n",
    "# Print the sorted DataFrame\n",
    "print(df_sorted)"
   ]
  },
  {
   "cell_type": "raw",
   "id": "0d16fce1-9c7d-4320-8dc4-738830f7c1b8",
   "metadata": {},
   "source": [
    "Task:-5 Data Cleaning and Transformation \n",
    "Scenario: \n",
    "You have a dataset on customer purchases with the following issues: \n",
    "Missing values in the \"price\" column. \n",
    "Inconsistent data types (prices might be strings with a currency symbol). \n",
    "Inconsistent product names (typos or capitalization). \n",
    "Goal: Clean and transform the data using pandas functions."
   ]
  },
  {
   "cell_type": "code",
   "execution_count": 62,
   "id": "fae7043d-7bd6-4adc-9acc-e1a4ee1c0de1",
   "metadata": {},
   "outputs": [
    {
     "name": "stdout",
     "output_type": "stream",
     "text": [
      "      product   price  quantity\n",
      "0     Oneplus  8996.0         3\n",
      "1      Realme  3795.0         5\n",
      "2       Apple     NaN         4\n",
      "3        vivo  7596.0         8\n",
      "4  blackberry  7684.0         6\n",
      "5       Nokia  9847.0         9\n",
      "6          hp  7675.0         2\n",
      "7        dell   987.9         7\n"
     ]
    }
   ],
   "source": [
    "import pandas as pd\n",
    "data = {\n",
    "      'product': ['Oneplus', 'Realme', 'Apple', 'vivo', 'blackberry', 'Nokia', 'hp','dell'],\n",
    "    'price': [8996,3795,'NaN',7596,7684,9847,7675,'$987.9'],\n",
    "    'quantity': [3, 5, 4, 8, 6, 9, 2, 7]\n",
    "}\n",
    "\n",
    "df = pd.DataFrame(data)\n",
    "\n",
    "df['price'] = df['price'].astype(str)\n",
    "df['price'] = df['price'].str.replace('[$,]', '', regex=True) # 'str.replace' method to remove the dollar sign and comma characters from the 'price' column.\n",
    "df['price'] = pd.to_numeric(df['price'], errors='coerce') # This line converts the 'price' column back to numeric type using the 'pd.to_numeric function'.\n",
    "df['price'].fillna(df['price'].mean(), inplace=False) #fills any missing values in the 'price' column with the mean of the column using the fillna method\n",
    "\n",
    "print(df)"
   ]
  },
  {
   "cell_type": "code",
   "execution_count": null,
   "id": "7e99af46-b0c7-4a74-9ac7-a5a4aa0bc5b8",
   "metadata": {},
   "outputs": [],
   "source": []
  }
 ],
 "metadata": {
  "kernelspec": {
   "display_name": "Python 3 (ipykernel)",
   "language": "python",
   "name": "python3"
  },
  "language_info": {
   "codemirror_mode": {
    "name": "ipython",
    "version": 3
   },
   "file_extension": ".py",
   "mimetype": "text/x-python",
   "name": "python",
   "nbconvert_exporter": "python",
   "pygments_lexer": "ipython3",
   "version": "3.12.0"
  }
 },
 "nbformat": 4,
 "nbformat_minor": 5
}
