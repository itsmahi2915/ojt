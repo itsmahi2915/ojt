{
 "cells": [
  {
   "cell_type": "code",
   "execution_count": null,
   "id": "edbb152c-35bc-41a2-b599-30e9979dc383",
   "metadata": {},
   "outputs": [],
   "source": [
    "#simple line in python."
   ]
  },
  {
   "cell_type": "code",
   "execution_count": 3,
   "id": "7eb66fee-0af5-4b59-a148-95184712320f",
   "metadata": {},
   "outputs": [
    {
     "name": "stdout",
     "output_type": "stream",
     "text": [
      "Hello Python\n"
     ]
    }
   ],
   "source": [
    "print(\"Hello Python\")"
   ]
  },
  {
   "cell_type": "code",
   "execution_count": 5,
   "id": "33a16e4b-accf-4e20-8046-c246a34fa22f",
   "metadata": {},
   "outputs": [
    {
     "name": "stdout",
     "output_type": "stream",
     "text": [
      "this is my frist program. \n",
      "and this is my frist calss\n"
     ]
    }
   ],
   "source": [
    "print(\"\"\"this is my frist program. \n",
    "and this is my frist calss\"\"\")"
   ]
  },
  {
   "cell_type": "code",
   "execution_count": 8,
   "id": "517abed1-b9c7-47e5-ad9c-84e6cf211abe",
   "metadata": {},
   "outputs": [
    {
     "name": "stdout",
     "output_type": "stream",
     "text": [
      "this is my frist program.and \n",
      " this is my frist calss\n"
     ]
    }
   ],
   "source": [
    "print(\"this is my frist program.and \\n this is my frist calss\")"
   ]
  },
  {
   "cell_type": "code",
   "execution_count": 9,
   "id": "0f33ed4b-8285-4a22-9699-031e1e2a66b4",
   "metadata": {},
   "outputs": [],
   "source": [
    "#Comments in python."
   ]
  },
  {
   "cell_type": "code",
   "execution_count": 10,
   "id": "8cb34d5b-cd0d-4c0c-a3ea-ef5eb4ecadb3",
   "metadata": {},
   "outputs": [],
   "source": [
    "#in this program we add two number."
   ]
  },
  {
   "cell_type": "code",
   "execution_count": 11,
   "id": "a4823dc5-406d-4b32-843d-6016d23eab3c",
   "metadata": {},
   "outputs": [
    {
     "name": "stdout",
     "output_type": "stream",
     "text": [
      "9\n"
     ]
    }
   ],
   "source": [
    "a = 5;\n",
    "b =4;\n",
    "c = a + b \n",
    "print(c)"
   ]
  },
  {
   "cell_type": "code",
   "execution_count": 12,
   "id": "a6cdb07b-90de-495c-be9e-3f595b751c45",
   "metadata": {},
   "outputs": [],
   "source": [
    "#variables are placeholders, which can store a value. in simple words, Variable is a container that holds data inside it as a value."
   ]
  },
  {
   "cell_type": "code",
   "execution_count": 13,
   "id": "a2e91f38-3eb4-4c2b-92e2-7b3f7ff0e6c6",
   "metadata": {},
   "outputs": [
    {
     "name": "stdout",
     "output_type": "stream",
     "text": [
      "hello world\n"
     ]
    }
   ],
   "source": [
    "input# \n",
    "a = \"hello world\"\n",
    "print(a)"
   ]
  },
  {
   "cell_type": "code",
   "execution_count": 14,
   "id": "38f5d15f-57ae-421e-b5b4-6a853d9960b8",
   "metadata": {},
   "outputs": [],
   "source": [
    "#Rules of Writting Variable names."
   ]
  },
  {
   "cell_type": "code",
   "execution_count": 15,
   "id": "4cee1f72-b8ed-4674-86a3-685ec7e02338",
   "metadata": {},
   "outputs": [
    {
     "name": "stdout",
     "output_type": "stream",
     "text": [
      "hello world\n"
     ]
    }
   ],
   "source": [
    "#Python is case-sensitive language, therefore the variables names are case-sensitive as well. \n",
    "A = \"hello\"\n",
    "print(a)"
   ]
  },
  {
   "cell_type": "code",
   "execution_count": 17,
   "id": "9923ac48-bbc8-491e-87c8-212c25378920",
   "metadata": {},
   "outputs": [],
   "source": [
    "#make sure to not use spaces while creating a variable. one can use (_)underscore to separate the names while writing a variable.\n",
    "#Even_number = 2   eg\n",
    "#A variable name should never start with a number or special symbol.\n",
    "#1num = wrong\n",
    "#name = \"mahi\"."
   ]
  },
  {
   "cell_type": "code",
   "execution_count": 18,
   "id": "82216908-7457-4edb-b359-91f3d64c7e7d",
   "metadata": {},
   "outputs": [],
   "source": [
    "#Datatype and User_input"
   ]
  },
  {
   "cell_type": "code",
   "execution_count": 21,
   "id": "74a45a04-3ee0-4dfb-8240-34c7ca16a69c",
   "metadata": {},
   "outputs": [
    {
     "name": "stdin",
     "output_type": "stream",
     "text": [
      "Enter your name :  mahi\n"
     ]
    },
    {
     "name": "stdout",
     "output_type": "stream",
     "text": [
      "mahi\n"
     ]
    }
   ],
   "source": [
    "#text-type : String(str)\n",
    "#Numeric Type : integer (int), floating point(float),complex\n",
    "#Mapping Type : Dictionaries(dict)\n",
    "#Set Type : set, frozenset\n",
    "#Boolean Type: bool\n",
    "#Binary Types : bytes , bytearray, memoryview)\n",
    "#To ask for the input from the user. Default datatypes is string.\n",
    "name = input(\"Enter your name : \")\n",
    "print(name)"
   ]
  },
  {
   "cell_type": "code",
   "execution_count": 25,
   "id": "4c9db8bc-a7d7-4714-b5a7-87ed3ebe9ce1",
   "metadata": {},
   "outputs": [
    {
     "name": "stdin",
     "output_type": "stream",
     "text": [
      "Enter Your Name:  manisha\n"
     ]
    }
   ],
   "source": [
    "#Strings \" \" double couts me hota hai strings.\n",
    "name = input(\"Enter Your Name: \" )"
   ]
  },
  {
   "cell_type": "code",
   "execution_count": 31,
   "id": "947cd18d-9af6-44f4-8a0f-e8b91ec96035",
   "metadata": {},
   "outputs": [
    {
     "name": "stdin",
     "output_type": "stream",
     "text": [
      "Enter Your age:  23\n"
     ]
    },
    {
     "name": "stdout",
     "output_type": "stream",
     "text": [
      "23\n"
     ]
    }
   ],
   "source": [
    "# Integer \n",
    "age = int(input(\"Enter Your age: \"))\n",
    "print (age)"
   ]
  },
  {
   "cell_type": "code",
   "execution_count": 32,
   "id": "32848ccd-fff1-433b-b4ca-9b85bf54d5c5",
   "metadata": {},
   "outputs": [
    {
     "name": "stdin",
     "output_type": "stream",
     "text": [
      "Enter any Number 2\n"
     ]
    },
    {
     "name": "stdout",
     "output_type": "stream",
     "text": [
      "2.0\n"
     ]
    }
   ],
   "source": [
    "#float \n",
    "number = float(input(\"Enter any Number\"))\n",
    "print(number)"
   ]
  },
  {
   "cell_type": "code",
   "execution_count": 2,
   "id": "08c3a83c-92a3-42bf-b54e-5300fccbc9c8",
   "metadata": {},
   "outputs": [
    {
     "name": "stdin",
     "output_type": "stream",
     "text": [
      "enter any equation here :  2 + 3\n"
     ]
    },
    {
     "name": "stdout",
     "output_type": "stream",
     "text": [
      "5\n"
     ]
    }
   ],
   "source": [
    "#Evalute\n",
    "exp1 = eval(input(\"enter any equation here : \"))\n",
    "print(exp1)"
   ]
  },
  {
   "cell_type": "code",
   "execution_count": 3,
   "id": "7d004602-ce7a-4ffd-a4c0-d6daa8e78a55",
   "metadata": {},
   "outputs": [],
   "source": [
    "#Type casting and subtypes"
   ]
  },
  {
   "cell_type": "raw",
   "id": "5e48dd98-accb-4078-9668-ff62e7377647",
   "metadata": {},
   "source": [
    "#Conversion of one datatype to another is calles as type-casting.\n",
    "There are two type of type-casting\n",
    "1. Implicit type conversion : where python itself converts one datatype to another.\n",
    "2. Explicit type conversion : where the user converts one data to another.\n"
   ]
  },
  {
   "cell_type": "code",
   "execution_count": 6,
   "id": "760898f4-bdb8-4d92-960d-d72051d2347c",
   "metadata": {},
   "outputs": [
    {
     "name": "stdout",
     "output_type": "stream",
     "text": [
      "<class 'str'>\n"
     ]
    }
   ],
   "source": [
    "name = \"Mahi\";\n",
    "print(type(name))"
   ]
  },
  {
   "cell_type": "raw",
   "id": "9739423a-0fa4-412e-a17e-d72fd467df01",
   "metadata": {},
   "source": [
    "* Operators and Operands.\n",
    "Operators indicates what operation is to be performed while Operands indicates on what the action or the operation should be performed.\n",
    "Type of operators\n",
    "1.Arithmetic operators \n",
    "2.Comparison Operators\n",
    "3.Logical Operators\n",
    "4.Assignment Operators\n",
    "5.Identity Operators\n",
    "6.Membership Operators\n",
    "7.Bitwise Operators\n",
    "(operators what action performed and operands on what action performed.)"
   ]
  },
  {
   "cell_type": "raw",
   "id": "1eec253f-cae0-4d4e-bd13-55a79f7f074a",
   "metadata": {},
   "source": [
    "#Python Arithmetic Operator\n",
    "Addition\n",
    "Substraction\n",
    "Multiplication\n",
    "Modulus\n",
    "Division\n"
   ]
  },
  {
   "cell_type": "code",
   "execution_count": 3,
   "id": "3dd9ac74-dadb-411f-a158-2aaf23f27d22",
   "metadata": {},
   "outputs": [
    {
     "name": "stdout",
     "output_type": "stream",
     "text": [
      "10\n"
     ]
    }
   ],
   "source": [
    "#addition \n",
    "a = 4\n",
    "b = 6\n",
    "c = a + b\n",
    "print(c)"
   ]
  },
  {
   "cell_type": "code",
   "execution_count": 4,
   "id": "901cf7ff-e098-4821-894e-0ae095e42f29",
   "metadata": {},
   "outputs": [
    {
     "name": "stdout",
     "output_type": "stream",
     "text": [
      "-2\n"
     ]
    }
   ],
   "source": [
    "#Substraction\n",
    "a = 4\n",
    "b = 6\n",
    "c = a - b\n",
    "print(c)"
   ]
  },
  {
   "cell_type": "code",
   "execution_count": 5,
   "id": "ac6cbce7-a708-4c89-907e-eff902169898",
   "metadata": {},
   "outputs": [
    {
     "name": "stdout",
     "output_type": "stream",
     "text": [
      "24\n"
     ]
    }
   ],
   "source": [
    "#multiplication\n",
    "a = 4\n",
    "b = 6\n",
    "c = a * b\n",
    "print(c)"
   ]
  },
  {
   "cell_type": "code",
   "execution_count": 8,
   "id": "57ad2cb1-5002-40e5-b427-a61d88e74656",
   "metadata": {},
   "outputs": [
    {
     "name": "stdout",
     "output_type": "stream",
     "text": [
      "3\n"
     ]
    }
   ],
   "source": [
    "#Modulus\n",
    "a = 3\n",
    "b = 16\n",
    "c = a % b\n",
    "print(c)"
   ]
  },
  {
   "cell_type": "code",
   "execution_count": 15,
   "id": "4005da06-f6fa-4a42-ac01-93d38e8071a2",
   "metadata": {},
   "outputs": [
    {
     "name": "stdout",
     "output_type": "stream",
     "text": [
      "0.25\n"
     ]
    }
   ],
   "source": [
    "#Division\n",
    "a = 12\n",
    "b =48 \n",
    "c = a / b\n",
    "print(c)"
   ]
  },
  {
   "cell_type": "raw",
   "id": "676201bb-1d15-4038-ac0a-9e28772e8c5e",
   "metadata": {},
   "source": [
    "#Comparison Operators\n",
    "less than '<'\n",
    "less than or equal to '<='\n",
    "Not equal to '!='\n",
    "Equal to '=='\n",
    "Grater than or equal to '>='\n",
    "Grater than '>'\n"
   ]
  },
  {
   "cell_type": "code",
   "execution_count": 17,
   "id": "8bdc2389-8d2c-463a-9efd-d2fb40d7e648",
   "metadata": {},
   "outputs": [
    {
     "name": "stdout",
     "output_type": "stream",
     "text": [
      "True\n"
     ]
    }
   ],
   "source": [
    "print(3>2)"
   ]
  },
  {
   "cell_type": "code",
   "execution_count": 18,
   "id": "768bf4d5-fa48-4391-bc77-5b30c8f30b50",
   "metadata": {},
   "outputs": [
    {
     "name": "stdout",
     "output_type": "stream",
     "text": [
      "False\n"
     ]
    }
   ],
   "source": [
    "print(3<2)"
   ]
  },
  {
   "cell_type": "code",
   "execution_count": 19,
   "id": "30652cef-a85b-4da0-bf74-51c48e7fb4c7",
   "metadata": {},
   "outputs": [
    {
     "name": "stdout",
     "output_type": "stream",
     "text": [
      "True\n"
     ]
    }
   ],
   "source": [
    "print(3<=4)"
   ]
  },
  {
   "cell_type": "code",
   "execution_count": 20,
   "id": "8b35ad5d-97d9-4169-8903-1cbd869d22d4",
   "metadata": {},
   "outputs": [
    {
     "name": "stdout",
     "output_type": "stream",
     "text": [
      "False\n"
     ]
    }
   ],
   "source": [
    "print(3>=4)"
   ]
  },
  {
   "cell_type": "code",
   "execution_count": 21,
   "id": "35103e56-837d-4b79-8da7-f856981ec92b",
   "metadata": {},
   "outputs": [
    {
     "name": "stdout",
     "output_type": "stream",
     "text": [
      "True\n"
     ]
    }
   ],
   "source": [
    "print(3==3)"
   ]
  },
  {
   "cell_type": "code",
   "execution_count": 23,
   "id": "5e2bb0ed-90aa-424f-9a69-0229d6b982ec",
   "metadata": {},
   "outputs": [
    {
     "name": "stdout",
     "output_type": "stream",
     "text": [
      "True\n"
     ]
    }
   ],
   "source": [
    "print(3!=10)"
   ]
  },
  {
   "cell_type": "raw",
   "id": "165276d7-d1de-4986-a273-33e2048268d2",
   "metadata": {},
   "source": [
    "#logical operators\n",
    "and: ture if both the operands are true, x and y\n",
    "or: true if either of the operands is true, x or y\n",
    "not: true if operand is false, not x"
   ]
  },
  {
   "cell_type": "code",
   "execution_count": 24,
   "id": "264464ba-7ff6-45bd-b1ba-565c93a3b577",
   "metadata": {},
   "outputs": [
    {
     "name": "stdout",
     "output_type": "stream",
     "text": [
      "True\n"
     ]
    }
   ],
   "source": [
    "print(2<3 or 4>7)"
   ]
  },
  {
   "cell_type": "code",
   "execution_count": 26,
   "id": "5d99ca15-342d-47d5-92d0-508be622d599",
   "metadata": {},
   "outputs": [
    {
     "name": "stdout",
     "output_type": "stream",
     "text": [
      "True\n"
     ]
    }
   ],
   "source": [
    "print(2<3 and 4<7)"
   ]
  },
  {
   "cell_type": "code",
   "execution_count": 30,
   "id": "ff843e5b-196a-4c0a-8624-7b051f6845cb",
   "metadata": {},
   "outputs": [
    {
     "name": "stdout",
     "output_type": "stream",
     "text": [
      "True\n",
      "False\n"
     ]
    }
   ],
   "source": [
    "a = 1\n",
    "b = 2\n",
    "c = 2\n",
    "print(a!=b)\n",
    "print(b!=c)"
   ]
  },
  {
   "cell_type": "raw",
   "id": "2b25555d-ab59-48a7-9e73-ceebda2e61bf",
   "metadata": {},
   "source": [
    "#Assignment Operators\n",
    "=\n",
    "+=\n",
    "-=\n",
    "*="
   ]
  },
  {
   "cell_type": "raw",
   "id": "01375f32-a009-4892-a9b1-fd651968f846",
   "metadata": {},
   "source": [
    "#Identity Operators\n",
    "is \n",
    "is not"
   ]
  },
  {
   "cell_type": "code",
   "execution_count": 32,
   "id": "8e88b64f-d3bd-434d-8e0a-3d3d89b49585",
   "metadata": {},
   "outputs": [
    {
     "name": "stdout",
     "output_type": "stream",
     "text": [
      "False\n"
     ]
    }
   ],
   "source": [
    "a = 1234\n",
    "b = \"1234\"\n",
    "print(a is b)"
   ]
  },
  {
   "cell_type": "code",
   "execution_count": 37,
   "id": "0dcd894f-fe27-4c86-943d-0097978241c0",
   "metadata": {},
   "outputs": [
    {
     "name": "stdout",
     "output_type": "stream",
     "text": [
      "False\n"
     ]
    }
   ],
   "source": [
    "a = 1234\n",
    "b = 1234\n",
    "print(a is b)"
   ]
  },
  {
   "cell_type": "code",
   "execution_count": 38,
   "id": "60e5cc95-add3-4ab5-b12b-e8be40702ae5",
   "metadata": {},
   "outputs": [
    {
     "name": "stdout",
     "output_type": "stream",
     "text": [
      "True\n"
     ]
    }
   ],
   "source": [
    "a = 1234\n",
    "b = 1234\n",
    "print(a is not b)"
   ]
  },
  {
   "cell_type": "raw",
   "id": "c73cf5f4-9d6e-4068-8037-f818f1af1db5",
   "metadata": {},
   "source": [
    "#Bitwise Operators\n",
    "AND (&) Operator\n",
    "OR (|) operator\n",
    "XOR(^) Operator\n",
    "<<zero fill left shift\n",
    ">>zero fill right shift"
   ]
  },
  {
   "cell_type": "raw",
   "id": "a1bf30ef-9e76-46db-8feb-f4457d517c99",
   "metadata": {},
   "source": [
    "Membership Operators\n",
    "Membership operator are used to check the presence of a sequence in an object.\n",
    "in\n",
    "not in"
   ]
  },
  {
   "cell_type": "code",
   "execution_count": 43,
   "id": "0a876427-e8e7-4cc1-ae16-cffd5840362b",
   "metadata": {},
   "outputs": [
    {
     "name": "stdout",
     "output_type": "stream",
     "text": [
      "True\n"
     ]
    }
   ],
   "source": [
    "a = \"mahi\";\n",
    "print(\"m\" in a)"
   ]
  },
  {
   "cell_type": "code",
   "execution_count": 44,
   "id": "02191651-4c5c-4a63-8ecc-d1d089520936",
   "metadata": {},
   "outputs": [
    {
     "name": "stdout",
     "output_type": "stream",
     "text": [
      "False\n"
     ]
    }
   ],
   "source": [
    "a = \"mahi\";\n",
    "print(\"m\"  not in a)"
   ]
  },
  {
   "cell_type": "code",
   "execution_count": 45,
   "id": "ab90da6b-d440-4a74-9014-39f72585af34",
   "metadata": {},
   "outputs": [
    {
     "name": "stdout",
     "output_type": "stream",
     "text": [
      "False\n"
     ]
    }
   ],
   "source": [
    "a = \"mahi\";\n",
    "print(\"s\" in a)"
   ]
  },
  {
   "cell_type": "raw",
   "id": "3df8c31b-5411-44be-be2b-283cc904dedc",
   "metadata": {},
   "source": [
    "#Conditional Statements\n",
    "Conditional statement allows computer to execute a certain condition only if it is true.\n",
    "Type of conditional statement.\n",
    "1. if the statement\n",
    "2. if-else statement\n",
    "3. if-elif-else statement\n",
    "4. nested statement\n",
    "5. short hand if statement"
   ]
  },
  {
   "cell_type": "code",
   "execution_count": 3,
   "id": "bb0a2ff9-ea6c-4461-8934-1c3970ee64f6",
   "metadata": {},
   "outputs": [
    {
     "name": "stdout",
     "output_type": "stream",
     "text": [
      "Thank Yor\n"
     ]
    }
   ],
   "source": [
    "#if the statement\n",
    "mark = 85\n",
    "if mark>=90:\n",
    "    print('she get a new phone')\n",
    "print('Thank Yor')\n"
   ]
  },
  {
   "cell_type": "raw",
   "id": "b9591885-c544-4777-8e0c-57c0af8c9728",
   "metadata": {},
   "source": [
    "#if-else statement\n",
    "if condition\n",
    "   will executes this block if the condition is true\n",
    "    else:\n",
    "   will execute this block if the condition is false"
   ]
  },
  {
   "cell_type": "code",
   "execution_count": 4,
   "id": "d3271cac-12d9-4c47-adfb-3f50cf852602",
   "metadata": {},
   "outputs": [
    {
     "name": "stdout",
     "output_type": "stream",
     "text": [
      "no phone\n",
      "thank you\n"
     ]
    }
   ],
   "source": [
    "mark = 85\n",
    "if mark>=90:\n",
    "    print('she get a new phone')\n",
    "else:\n",
    "    print('no phone')\n",
    "print('thank you')"
   ]
  },
  {
   "cell_type": "raw",
   "id": "fbe0e2e9-9bc1-4710-92c6-0b7b057f28c7",
   "metadata": {},
   "source": [
    "# if-elif-else statement\n",
    "multiple condition, more elif statement are added.\n",
    "if condition:\n",
    " body of if\n",
    "elif condition:\n",
    " body of elif\n",
    "else:"
   ]
  },
  {
   "cell_type": "code",
   "execution_count": 8,
   "id": "9f238c44-86c6-404b-b8bb-c6dd90de0f8c",
   "metadata": {},
   "outputs": [
    {
     "name": "stdout",
     "output_type": "stream",
     "text": [
      "you will not get your phone back\n"
     ]
    }
   ],
   "source": [
    "mark = 85\n",
    "if mark>=90:\n",
    "    print('she get a new phone')\n",
    "elif mark >=75 and mark <80:\n",
    "    print('you will get a new watch')\n",
    "elif mark >=70 and mark <75:\n",
    "    print('yor will get a new book')\n",
    "else:\n",
    "    print('you will not get your phone back')"
   ]
  },
  {
   "cell_type": "code",
   "execution_count": 1,
   "id": "d87d52f7-ce1a-41a2-803f-c4cbf6b489fc",
   "metadata": {},
   "outputs": [
    {
     "data": {
      "text/plain": [
       "'mahi'"
      ]
     },
     "execution_count": 1,
     "metadata": {},
     "output_type": "execute_result"
    }
   ],
   "source": [
    "username = \"mahi\"\n",
    "username"
   ]
  },
  {
   "cell_type": "code",
   "execution_count": 4,
   "id": "23a46a52-c47d-45f5-bc06-b8bc0fa91643",
   "metadata": {},
   "outputs": [
    {
     "data": {
      "text/plain": [
       "10"
      ]
     },
     "execution_count": 4,
     "metadata": {},
     "output_type": "execute_result"
    }
   ],
   "source": [
    "x = 10\n",
    "y = x\n",
    "x\n",
    "y"
   ]
  },
  {
   "cell_type": "code",
   "execution_count": 5,
   "id": "cbd6714a-43db-4c9f-b6dd-74557677256a",
   "metadata": {},
   "outputs": [
    {
     "data": {
      "text/plain": [
       "10"
      ]
     },
     "execution_count": 5,
     "metadata": {},
     "output_type": "execute_result"
    }
   ],
   "source": [
    "s = 10\n",
    "y = x \n",
    "x"
   ]
  },
  {
   "cell_type": "code",
   "execution_count": 6,
   "id": "50abb053-5e4a-495a-9d3e-cc4d13b23542",
   "metadata": {},
   "outputs": [
    {
     "data": {
      "text/plain": [
       "10"
      ]
     },
     "execution_count": 6,
     "metadata": {},
     "output_type": "execute_result"
    }
   ],
   "source": [
    "y"
   ]
  },
  {
   "cell_type": "code",
   "execution_count": 7,
   "id": "ecbe247f-3658-48e0-9adf-59c912ba49f9",
   "metadata": {},
   "outputs": [
    {
     "data": {
      "text/plain": [
       "15"
      ]
     },
     "execution_count": 7,
     "metadata": {},
     "output_type": "execute_result"
    }
   ],
   "source": [
    "x = 15\n",
    "x"
   ]
  },
  {
   "cell_type": "code",
   "execution_count": 8,
   "id": "a971e632-ae14-4bb2-9385-b3d313c5d724",
   "metadata": {},
   "outputs": [
    {
     "data": {
      "text/plain": [
       "10"
      ]
     },
     "execution_count": 8,
     "metadata": {},
     "output_type": "execute_result"
    }
   ],
   "source": [
    "y"
   ]
  },
  {
   "cell_type": "code",
   "execution_count": null,
   "id": "7fa0b188-1336-4c71-8f29-437fd3f8d989",
   "metadata": {},
   "outputs": [],
   "source": [
    "#"
   ]
  }
 ],
 "metadata": {
  "kernelspec": {
   "display_name": "Python 3 (ipykernel)",
   "language": "python",
   "name": "python3"
  },
  "language_info": {
   "codemirror_mode": {
    "name": "ipython",
    "version": 3
   },
   "file_extension": ".py",
   "mimetype": "text/x-python",
   "name": "python",
   "nbconvert_exporter": "python",
   "pygments_lexer": "ipython3",
   "version": "3.12.0"
  }
 },
 "nbformat": 4,
 "nbformat_minor": 5
}
