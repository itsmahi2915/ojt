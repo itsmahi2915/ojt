{
 "cells": [
  {
   "cell_type": "code",
   "execution_count": 56,
   "id": "63d49b18-6566-482b-b860-fdacdf43501d",
   "metadata": {},
   "outputs": [],
   "source": [
    "import numpy as np"
   ]
  },
  {
   "cell_type": "code",
   "execution_count": 57,
   "id": "c78b1b48-425e-471e-9e9a-1ec034148bed",
   "metadata": {},
   "outputs": [],
   "source": [
    "#activation function random value create krne k liye activation ka use krte hai .\n",
    "def sigmoid(x):\n",
    "    return(1/(1+np.exp(-x)))"
   ]
  },
  {
   "cell_type": "code",
   "execution_count": 58,
   "id": "75f9e545-8a71-43d1-835b-0797873d9849",
   "metadata": {},
   "outputs": [],
   "source": [
    "def s_der(x): \n",
    "    return(x*(1-x))"
   ]
  },
  {
   "cell_type": "code",
   "execution_count": 59,
   "id": "246090d4-04ea-4034-9af3-2416d0971bfe",
   "metadata": {},
   "outputs": [],
   "source": [
    "# inputs \n",
    "input = np.array(\n",
    "    [\n",
    "        [1,0,1],\n",
    "        [1,1,1],\n",
    "        [0,1,1],\n",
    "        [0,0,1]\n",
    "   ]\n",
    ")"
   ]
  },
  {
   "cell_type": "code",
   "execution_count": 99,
   "id": "17bd32c4-6d04-457d-9216-58e89c80f4f0",
   "metadata": {},
   "outputs": [
    {
     "data": {
      "text/plain": [
       "array([[1],\n",
       "       [1],\n",
       "       [0],\n",
       "       [0]])"
      ]
     },
     "execution_count": 99,
     "metadata": {},
     "output_type": "execute_result"
    }
   ],
   "source": [
    "t_output = np.array([[1,1,0,0]]).T \n",
    "t_output"
   ]
  },
  {
   "cell_type": "code",
   "execution_count": 107,
   "id": "e786f74b-a8e1-4f2a-a6cb-7ccfa5f83c67",
   "metadata": {},
   "outputs": [
    {
     "data": {
      "text/plain": [
       "array([[1],\n",
       "       [1],\n",
       "       [0],\n",
       "       [0]])"
      ]
     },
     "execution_count": 107,
     "metadata": {},
     "output_type": "execute_result"
    }
   ],
   "source": [
    "t_out = np.array(\n",
    "    [\n",
    "        [1],\n",
    "        [1],\n",
    "        [0], \n",
    "        [0]\n",
    "    ]\n",
    ")\n",
    "t_out"
   ]
  },
  {
   "cell_type": "code",
   "execution_count": 100,
   "id": "ebfe2642-63ad-4577-9f7a-305d194c72ef",
   "metadata": {},
   "outputs": [],
   "source": [
    "#weights = np.random.random((3,1))\n",
    "#weights"
   ]
  },
  {
   "cell_type": "code",
   "execution_count": 101,
   "id": "0777ab52-115c-4150-a72c-ab795f0d8c6c",
   "metadata": {},
   "outputs": [
    {
     "data": {
      "text/plain": [
       "array([[0.51804057],\n",
       "       [0.95490551],\n",
       "       [0.31970545]])"
      ]
     },
     "execution_count": 101,
     "metadata": {},
     "output_type": "execute_result"
    }
   ],
   "source": [
    "weights = 2*np.random.random((3,1)) -1\n",
    "weights"
   ]
  },
  {
   "cell_type": "code",
   "execution_count": 102,
   "id": "8e1ea6a7-a0fe-44b5-a23f-dd7e24458e25",
   "metadata": {},
   "outputs": [],
   "source": [
    "for iter in range(10): \n",
    "    output = sigmoid(np.dot(input, weights))#output\n",
    "    error = t_output-output #match org value\n",
    "    upd = error*s_der(output)#error function\n",
    "    weights += np.dot(input.T, upd)#weights update"
   ]
  },
  {
   "cell_type": "code",
   "execution_count": 103,
   "id": "00d67cf4-f067-418c-bc9b-c3ab6c379b6a",
   "metadata": {},
   "outputs": [
    {
     "data": {
      "text/plain": [
       "array([[0.70097086],\n",
       "       [0.73953563],\n",
       "       [0.3726679 ],\n",
       "       [0.32906444]])"
      ]
     },
     "execution_count": 103,
     "metadata": {},
     "output_type": "execute_result"
    }
   ],
   "source": [
    "output"
   ]
  },
  {
   "cell_type": "code",
   "execution_count": 104,
   "id": "09f04827-fabf-4b40-87a7-0abde145e786",
   "metadata": {},
   "outputs": [
    {
     "data": {
      "text/plain": [
       "array([[1.],\n",
       "       [1.],\n",
       "       [0.],\n",
       "       [0.]])"
      ]
     },
     "execution_count": 104,
     "metadata": {},
     "output_type": "execute_result"
    }
   ],
   "source": [
    "np.round(output)"
   ]
  },
  {
   "cell_type": "code",
   "execution_count": 105,
   "id": "83246e1b-0892-438a-ac5e-b143d85c2303",
   "metadata": {},
   "outputs": [],
   "source": [
    "# sigmoid(7685647589600899580) value kitni bhi ho output one ya isse kam hi aaye ga."
   ]
  },
  {
   "cell_type": "code",
   "execution_count": 109,
   "id": "1c5fcae0-de9d-47d3-9880-c427a59b8547",
   "metadata": {},
   "outputs": [
    {
     "data": {
      "text/plain": [
       "array([[0.73105858, 0.5       , 0.73105858],\n",
       "       [0.73105858, 0.73105858, 0.73105858],\n",
       "       [0.5       , 0.73105858, 0.73105858],\n",
       "       [0.5       , 0.5       , 0.73105858]])"
      ]
     },
     "execution_count": 109,
     "metadata": {},
     "output_type": "execute_result"
    }
   ],
   "source": [
    "output = sigmoid(input)\n",
    "output\n",
    "#error = t_out.output"
   ]
  },
  {
   "cell_type": "code",
   "execution_count": null,
   "id": "41fb3797-635e-412f-9558-b187387ba374",
   "metadata": {},
   "outputs": [],
   "source": []
  }
 ],
 "metadata": {
  "kernelspec": {
   "display_name": "Python 3 (ipykernel)",
   "language": "python",
   "name": "python3"
  },
  "language_info": {
   "codemirror_mode": {
    "name": "ipython",
    "version": 3
   },
   "file_extension": ".py",
   "mimetype": "text/x-python",
   "name": "python",
   "nbconvert_exporter": "python",
   "pygments_lexer": "ipython3",
   "version": "3.12.0"
  }
 },
 "nbformat": 4,
 "nbformat_minor": 5
}
