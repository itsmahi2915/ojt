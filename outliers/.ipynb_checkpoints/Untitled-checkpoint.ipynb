{
 "cells": [
  {
   "cell_type": "code",
   "execution_count": 19,
   "id": "554f7de4-8245-48a5-8d74-28517ad7b44d",
   "metadata": {},
   "outputs": [],
   "source": [
    "import pandas as pd\n",
    "import seaborn as sns\n",
    "import matplotlib.pyplot as plt"
   ]
  },
  {
   "cell_type": "code",
   "execution_count": 21,
   "id": "d5c76773-838b-4a16-95e1-42b46d916d5f",
   "metadata": {},
   "outputs": [
    {
     "data": {
      "text/html": [
       "<div>\n",
       "<style scoped>\n",
       "    .dataframe tbody tr th:only-of-type {\n",
       "        vertical-align: middle;\n",
       "    }\n",
       "\n",
       "    .dataframe tbody tr th {\n",
       "        vertical-align: top;\n",
       "    }\n",
       "\n",
       "    .dataframe thead th {\n",
       "        text-align: right;\n",
       "    }\n",
       "</style>\n",
       "<table border=\"1\" class=\"dataframe\">\n",
       "  <thead>\n",
       "    <tr style=\"text-align: right;\">\n",
       "      <th></th>\n",
       "      <th>Unnamed: 0</th>\n",
       "      <th>Brand me</th>\n",
       "      <th>Ratings</th>\n",
       "      <th>RAM</th>\n",
       "      <th>ROM</th>\n",
       "      <th>Mobile_Size</th>\n",
       "      <th>Primary_Cam</th>\n",
       "      <th>Selfi_Cam</th>\n",
       "      <th>Battery_Power</th>\n",
       "      <th>Price</th>\n",
       "      <th>Gender</th>\n",
       "    </tr>\n",
       "  </thead>\n",
       "  <tbody>\n",
       "    <tr>\n",
       "      <th>0</th>\n",
       "      <td>0</td>\n",
       "      <td>LG V30+ (Black, 128 )</td>\n",
       "      <td>4.3</td>\n",
       "      <td>4.0</td>\n",
       "      <td>128.0</td>\n",
       "      <td>6.0</td>\n",
       "      <td>48</td>\n",
       "      <td>13.0</td>\n",
       "      <td>4000</td>\n",
       "      <td>24999</td>\n",
       "      <td>Male</td>\n",
       "    </tr>\n",
       "    <tr>\n",
       "      <th>1</th>\n",
       "      <td>1</td>\n",
       "      <td>I Kall K11</td>\n",
       "      <td>3.4</td>\n",
       "      <td>6.0</td>\n",
       "      <td>64.0</td>\n",
       "      <td>4.5</td>\n",
       "      <td>48</td>\n",
       "      <td>12.0</td>\n",
       "      <td>4000</td>\n",
       "      <td>15999</td>\n",
       "      <td>Female</td>\n",
       "    </tr>\n",
       "    <tr>\n",
       "      <th>2</th>\n",
       "      <td>2</td>\n",
       "      <td>Nokia 105 ss</td>\n",
       "      <td>4.3</td>\n",
       "      <td>4.0</td>\n",
       "      <td>4.0</td>\n",
       "      <td>4.5</td>\n",
       "      <td>64</td>\n",
       "      <td>16.0</td>\n",
       "      <td>4000</td>\n",
       "      <td>15000</td>\n",
       "      <td>Female</td>\n",
       "    </tr>\n",
       "  </tbody>\n",
       "</table>\n",
       "</div>"
      ],
      "text/plain": [
       "   Unnamed: 0               Brand me  Ratings  RAM    ROM  Mobile_Size  \\\n",
       "0           0  LG V30+ (Black, 128 )      4.3  4.0  128.0          6.0   \n",
       "1           1             I Kall K11      3.4  6.0   64.0          4.5   \n",
       "2           2           Nokia 105 ss      4.3  4.0    4.0          4.5   \n",
       "\n",
       "   Primary_Cam  Selfi_Cam  Battery_Power  Price Gender   \n",
       "0           48       13.0           4000  24999    Male  \n",
       "1           48       12.0           4000  15999  Female  \n",
       "2           64       16.0           4000  15000  Female  "
      ]
     },
     "execution_count": 21,
     "metadata": {},
     "output_type": "execute_result"
    }
   ],
   "source": [
    "dataset = pd.read_csv('mobileprice.csv')\n",
    "dataset.head(3)"
   ]
  },
  {
   "cell_type": "code",
   "execution_count": 22,
   "id": "6f83cdb4-0d38-4e66-b02b-2ae96a149e14",
   "metadata": {},
   "outputs": [
    {
     "data": {
      "text/plain": [
       "Unnamed: 0         0\n",
       "Brand me           0\n",
       "Ratings           31\n",
       "RAM                7\n",
       "ROM                4\n",
       "Mobile_Size        2\n",
       "Primary_Cam        0\n",
       "Selfi_Cam        269\n",
       "Battery_Power      0\n",
       "Price              0\n",
       "Gender             0\n",
       "dtype: int64"
      ]
     },
     "execution_count": 22,
     "metadata": {},
     "output_type": "execute_result"
    }
   ],
   "source": [
    "dataset.isnull().sum()"
   ]
  },
  {
   "cell_type": "code",
   "execution_count": 26,
   "id": "7ea33d3b-112f-46d3-9ee6-71e1f8c7cdb0",
   "metadata": {},
   "outputs": [
    {
     "data": {
      "text/plain": [
       "(836, 11)"
      ]
     },
     "execution_count": 26,
     "metadata": {},
     "output_type": "execute_result"
    }
   ],
   "source": [
    "dataset.shape"
   ]
  },
  {
   "cell_type": "code",
   "execution_count": 23,
   "id": "cffa45b0-1790-4003-bae5-580a7576b27a",
   "metadata": {},
   "outputs": [
    {
     "data": {
      "text/html": [
       "<div>\n",
       "<style scoped>\n",
       "    .dataframe tbody tr th:only-of-type {\n",
       "        vertical-align: middle;\n",
       "    }\n",
       "\n",
       "    .dataframe tbody tr th {\n",
       "        vertical-align: top;\n",
       "    }\n",
       "\n",
       "    .dataframe thead th {\n",
       "        text-align: right;\n",
       "    }\n",
       "</style>\n",
       "<table border=\"1\" class=\"dataframe\">\n",
       "  <thead>\n",
       "    <tr style=\"text-align: right;\">\n",
       "      <th></th>\n",
       "      <th>Unnamed: 0</th>\n",
       "      <th>Ratings</th>\n",
       "      <th>RAM</th>\n",
       "      <th>ROM</th>\n",
       "      <th>Mobile_Size</th>\n",
       "      <th>Primary_Cam</th>\n",
       "      <th>Selfi_Cam</th>\n",
       "      <th>Battery_Power</th>\n",
       "      <th>Price</th>\n",
       "    </tr>\n",
       "  </thead>\n",
       "  <tbody>\n",
       "    <tr>\n",
       "      <th>count</th>\n",
       "      <td>836.000000</td>\n",
       "      <td>805.000000</td>\n",
       "      <td>829.000000</td>\n",
       "      <td>832.000000</td>\n",
       "      <td>834.000000</td>\n",
       "      <td>836.000000</td>\n",
       "      <td>567.000000</td>\n",
       "      <td>836.000000</td>\n",
       "      <td>836.00000</td>\n",
       "    </tr>\n",
       "    <tr>\n",
       "      <th>mean</th>\n",
       "      <td>417.500000</td>\n",
       "      <td>4.103106</td>\n",
       "      <td>6.066345</td>\n",
       "      <td>64.373077</td>\n",
       "      <td>5.597282</td>\n",
       "      <td>47.983254</td>\n",
       "      <td>9.784832</td>\n",
       "      <td>3274.688995</td>\n",
       "      <td>18220.34689</td>\n",
       "    </tr>\n",
       "    <tr>\n",
       "      <th>std</th>\n",
       "      <td>241.476707</td>\n",
       "      <td>0.365356</td>\n",
       "      <td>2.530336</td>\n",
       "      <td>53.447825</td>\n",
       "      <td>3.898664</td>\n",
       "      <td>11.170093</td>\n",
       "      <td>6.503838</td>\n",
       "      <td>927.518852</td>\n",
       "      <td>52805.55022</td>\n",
       "    </tr>\n",
       "    <tr>\n",
       "      <th>min</th>\n",
       "      <td>0.000000</td>\n",
       "      <td>2.800000</td>\n",
       "      <td>0.000000</td>\n",
       "      <td>0.000000</td>\n",
       "      <td>2.000000</td>\n",
       "      <td>5.000000</td>\n",
       "      <td>0.000000</td>\n",
       "      <td>1020.000000</td>\n",
       "      <td>479.00000</td>\n",
       "    </tr>\n",
       "    <tr>\n",
       "      <th>25%</th>\n",
       "      <td>208.750000</td>\n",
       "      <td>3.800000</td>\n",
       "      <td>6.000000</td>\n",
       "      <td>32.000000</td>\n",
       "      <td>4.500000</td>\n",
       "      <td>48.000000</td>\n",
       "      <td>5.000000</td>\n",
       "      <td>3000.000000</td>\n",
       "      <td>984.75000</td>\n",
       "    </tr>\n",
       "    <tr>\n",
       "      <th>50%</th>\n",
       "      <td>417.500000</td>\n",
       "      <td>4.100000</td>\n",
       "      <td>6.000000</td>\n",
       "      <td>40.000000</td>\n",
       "      <td>4.770000</td>\n",
       "      <td>48.000000</td>\n",
       "      <td>8.000000</td>\n",
       "      <td>3000.000000</td>\n",
       "      <td>1697.00000</td>\n",
       "    </tr>\n",
       "    <tr>\n",
       "      <th>75%</th>\n",
       "      <td>626.250000</td>\n",
       "      <td>4.400000</td>\n",
       "      <td>6.000000</td>\n",
       "      <td>64.000000</td>\n",
       "      <td>6.300000</td>\n",
       "      <td>48.000000</td>\n",
       "      <td>13.000000</td>\n",
       "      <td>3800.000000</td>\n",
       "      <td>18999.00000</td>\n",
       "    </tr>\n",
       "    <tr>\n",
       "      <th>max</th>\n",
       "      <td>835.000000</td>\n",
       "      <td>4.800000</td>\n",
       "      <td>34.000000</td>\n",
       "      <td>256.000000</td>\n",
       "      <td>44.000000</td>\n",
       "      <td>64.000000</td>\n",
       "      <td>61.000000</td>\n",
       "      <td>6000.000000</td>\n",
       "      <td>573000.00000</td>\n",
       "    </tr>\n",
       "  </tbody>\n",
       "</table>\n",
       "</div>"
      ],
      "text/plain": [
       "       Unnamed: 0     Ratings         RAM         ROM  Mobile_Size  \\\n",
       "count  836.000000  805.000000  829.000000  832.000000   834.000000   \n",
       "mean   417.500000    4.103106    6.066345   64.373077     5.597282   \n",
       "std    241.476707    0.365356    2.530336   53.447825     3.898664   \n",
       "min      0.000000    2.800000    0.000000    0.000000     2.000000   \n",
       "25%    208.750000    3.800000    6.000000   32.000000     4.500000   \n",
       "50%    417.500000    4.100000    6.000000   40.000000     4.770000   \n",
       "75%    626.250000    4.400000    6.000000   64.000000     6.300000   \n",
       "max    835.000000    4.800000   34.000000  256.000000    44.000000   \n",
       "\n",
       "       Primary_Cam   Selfi_Cam  Battery_Power         Price  \n",
       "count   836.000000  567.000000     836.000000     836.00000  \n",
       "mean     47.983254    9.784832    3274.688995   18220.34689  \n",
       "std      11.170093    6.503838     927.518852   52805.55022  \n",
       "min       5.000000    0.000000    1020.000000     479.00000  \n",
       "25%      48.000000    5.000000    3000.000000     984.75000  \n",
       "50%      48.000000    8.000000    3000.000000    1697.00000  \n",
       "75%      48.000000   13.000000    3800.000000   18999.00000  \n",
       "max      64.000000   61.000000    6000.000000  573000.00000  "
      ]
     },
     "execution_count": 23,
     "metadata": {},
     "output_type": "execute_result"
    }
   ],
   "source": [
    "dataset.describe()"
   ]
  },
  {
   "cell_type": "code",
   "execution_count": 24,
   "id": "c98e3d55-5b0a-4598-952a-b7be81d6bfb1",
   "metadata": {},
   "outputs": [],
   "source": [
    "#find outliers"
   ]
  },
  {
   "cell_type": "code",
   "execution_count": 25,
   "id": "bc7ec1b5-a3a3-425c-ab06-b484b0c27ca8",
   "metadata": {},
   "outputs": [
    {
     "data": {
      "image/png": "[encoded data removed]",
      "text/plain": [
       "<Figure size 640x480 with 1 Axes>"
      ]
     },
     "metadata": {},
     "output_type": "display_data"
    }
   ],
   "source": [
    "sns.boxplot(x=\"Price\", data=dataset)\n",
    "plt.show()"
   ]
  },
  {
   "cell_type": "code",
   "execution_count": 27,
   "id": "ec0eda49-b2e7-43c3-a65a-199af97e1f7d",
   "metadata": {},
   "outputs": [
    {
     "data": {
      "text/plain": [
       "984.75"
      ]
     },
     "execution_count": 27,
     "metadata": {},
     "output_type": "execute_result"
    }
   ],
   "source": [
    "#Calculate the 25th percentile of the \"Price\" column.\n",
    "q1 = dataset[\"Price\"].quantile(0.25)\n",
    "q1"
   ]
  },
  {
   "cell_type": "code",
   "execution_count": 44,
   "id": "fd072072-a61a-4d89-810d-216448f25b56",
   "metadata": {},
   "outputs": [
    {
     "data": {
      "text/plain": [
       "18999.0"
      ]
     },
     "execution_count": 44,
     "metadata": {},
     "output_type": "execute_result"
    }
   ],
   "source": [
    "##Calculate the 75th percentile of the \"Price\" column.\n",
    "q3 = dataset[\"Price\"].quantile(0.75)\n",
    "q3"
   ]
  },
  {
   "cell_type": "code",
   "execution_count": 38,
   "id": "cf1e9025-e99f-439d-badc-634ff093934b",
   "metadata": {},
   "outputs": [],
   "source": [
    "q1 = dataset[\"Price\"].quantile(0.25)\n",
    "q3 = dataset[\"Price\"].quantile(0.75)"
   ]
  },
  {
   "cell_type": "code",
   "execution_count": 45,
   "id": "35bb0ad6-ee9b-4788-9af2-20335411d4cc",
   "metadata": {},
   "outputs": [],
   "source": [
    "#Calculate the interquartile range (IQR)\n",
    "IQR = q3-q1"
   ]
  },
  {
   "cell_type": "code",
   "execution_count": 46,
   "id": "e2e55c16-c6bf-41ae-95d7-7ae0035dd16c",
   "metadata": {},
   "outputs": [
    {
     "data": {
      "text/plain": [
       "(-26036.625, 46020.375)"
      ]
     },
     "execution_count": 46,
     "metadata": {},
     "output_type": "execute_result"
    }
   ],
   "source": [
    "## Calculate the minimum and maximum values of the range\n",
    "min_range = q1 - (1.5*IQR)\n",
    "max_range = q3 + (1.5*IQR)\n",
    "min_range , max_range"
   ]
  },
  {
   "cell_type": "code",
   "execution_count": 47,
   "id": "9441c63b-1766-4b8f-b619-a73035a349ba",
   "metadata": {},
   "outputs": [
    {
     "data": {
      "text/html": [
       "<div>\n",
       "<style scoped>\n",
       "    .dataframe tbody tr th:only-of-type {\n",
       "        vertical-align: middle;\n",
       "    }\n",
       "\n",
       "    .dataframe tbody tr th {\n",
       "        vertical-align: top;\n",
       "    }\n",
       "\n",
       "    .dataframe thead th {\n",
       "        text-align: right;\n",
       "    }\n",
       "</style>\n",
       "<table border=\"1\" class=\"dataframe\">\n",
       "  <thead>\n",
       "    <tr style=\"text-align: right;\">\n",
       "      <th></th>\n",
       "      <th>Unnamed: 0</th>\n",
       "      <th>Brand me</th>\n",
       "      <th>Ratings</th>\n",
       "      <th>RAM</th>\n",
       "      <th>ROM</th>\n",
       "      <th>Mobile_Size</th>\n",
       "      <th>Primary_Cam</th>\n",
       "      <th>Selfi_Cam</th>\n",
       "      <th>Battery_Power</th>\n",
       "      <th>Price</th>\n",
       "      <th>Gender</th>\n",
       "    </tr>\n",
       "  </thead>\n",
       "  <tbody>\n",
       "    <tr>\n",
       "      <th>0</th>\n",
       "      <td>0</td>\n",
       "      <td>LG V30+ (Black, 128 )</td>\n",
       "      <td>4.3</td>\n",
       "      <td>4.0</td>\n",
       "      <td>128.0</td>\n",
       "      <td>6.00</td>\n",
       "      <td>48</td>\n",
       "      <td>13.0</td>\n",
       "      <td>4000</td>\n",
       "      <td>24999</td>\n",
       "      <td>Male</td>\n",
       "    </tr>\n",
       "    <tr>\n",
       "      <th>1</th>\n",
       "      <td>1</td>\n",
       "      <td>I Kall K11</td>\n",
       "      <td>3.4</td>\n",
       "      <td>6.0</td>\n",
       "      <td>64.0</td>\n",
       "      <td>4.50</td>\n",
       "      <td>48</td>\n",
       "      <td>12.0</td>\n",
       "      <td>4000</td>\n",
       "      <td>15999</td>\n",
       "      <td>Female</td>\n",
       "    </tr>\n",
       "    <tr>\n",
       "      <th>2</th>\n",
       "      <td>2</td>\n",
       "      <td>Nokia 105 ss</td>\n",
       "      <td>4.3</td>\n",
       "      <td>4.0</td>\n",
       "      <td>4.0</td>\n",
       "      <td>4.50</td>\n",
       "      <td>64</td>\n",
       "      <td>16.0</td>\n",
       "      <td>4000</td>\n",
       "      <td>15000</td>\n",
       "      <td>Female</td>\n",
       "    </tr>\n",
       "    <tr>\n",
       "      <th>3</th>\n",
       "      <td>3</td>\n",
       "      <td>Samsung Galaxy A50 (White, 64 )</td>\n",
       "      <td>4.4</td>\n",
       "      <td>6.0</td>\n",
       "      <td>64.0</td>\n",
       "      <td>6.40</td>\n",
       "      <td>48</td>\n",
       "      <td>15.0</td>\n",
       "      <td>3800</td>\n",
       "      <td>18999</td>\n",
       "      <td>Male</td>\n",
       "    </tr>\n",
       "    <tr>\n",
       "      <th>4</th>\n",
       "      <td>4</td>\n",
       "      <td>POCO F1 (Steel Blue, 128 )</td>\n",
       "      <td>4.5</td>\n",
       "      <td>6.0</td>\n",
       "      <td>128.0</td>\n",
       "      <td>6.18</td>\n",
       "      <td>35</td>\n",
       "      <td>15.0</td>\n",
       "      <td>3800</td>\n",
       "      <td>18999</td>\n",
       "      <td>Female</td>\n",
       "    </tr>\n",
       "    <tr>\n",
       "      <th>...</th>\n",
       "      <td>...</td>\n",
       "      <td>...</td>\n",
       "      <td>...</td>\n",
       "      <td>...</td>\n",
       "      <td>...</td>\n",
       "      <td>...</td>\n",
       "      <td>...</td>\n",
       "      <td>...</td>\n",
       "      <td>...</td>\n",
       "      <td>...</td>\n",
       "      <td>...</td>\n",
       "    </tr>\n",
       "    <tr>\n",
       "      <th>831</th>\n",
       "      <td>831</td>\n",
       "      <td>Karbonn K24 Plus Pro</td>\n",
       "      <td>3.8</td>\n",
       "      <td>6.0</td>\n",
       "      <td>32.0</td>\n",
       "      <td>4.54</td>\n",
       "      <td>48</td>\n",
       "      <td>12.0</td>\n",
       "      <td>2800</td>\n",
       "      <td>1299</td>\n",
       "      <td>Male</td>\n",
       "    </tr>\n",
       "    <tr>\n",
       "      <th>832</th>\n",
       "      <td>832</td>\n",
       "      <td>InFocus POWER 2</td>\n",
       "      <td>4.1</td>\n",
       "      <td>8.0</td>\n",
       "      <td>64.0</td>\n",
       "      <td>4.54</td>\n",
       "      <td>64</td>\n",
       "      <td>NaN</td>\n",
       "      <td>2500</td>\n",
       "      <td>1390</td>\n",
       "      <td>Female</td>\n",
       "    </tr>\n",
       "    <tr>\n",
       "      <th>833</th>\n",
       "      <td>833</td>\n",
       "      <td>Alcatel 5V (Spectrum Blue, 32 )</td>\n",
       "      <td>4.4</td>\n",
       "      <td>3.0</td>\n",
       "      <td>32.0</td>\n",
       "      <td>6.20</td>\n",
       "      <td>48</td>\n",
       "      <td>1.0</td>\n",
       "      <td>3800</td>\n",
       "      <td>9790</td>\n",
       "      <td>Male</td>\n",
       "    </tr>\n",
       "    <tr>\n",
       "      <th>834</th>\n",
       "      <td>834</td>\n",
       "      <td>JIVI JV 12M</td>\n",
       "      <td>3.7</td>\n",
       "      <td>10.0</td>\n",
       "      <td>32.0</td>\n",
       "      <td>4.50</td>\n",
       "      <td>64</td>\n",
       "      <td>NaN</td>\n",
       "      <td>3500</td>\n",
       "      <td>799</td>\n",
       "      <td>Female</td>\n",
       "    </tr>\n",
       "    <tr>\n",
       "      <th>835</th>\n",
       "      <td>835</td>\n",
       "      <td>Blacear B5 Grip</td>\n",
       "      <td>3.5</td>\n",
       "      <td>6.0</td>\n",
       "      <td>32.0</td>\n",
       "      <td>4.50</td>\n",
       "      <td>64</td>\n",
       "      <td>15.0</td>\n",
       "      <td>1050</td>\n",
       "      <td>799</td>\n",
       "      <td>Male</td>\n",
       "    </tr>\n",
       "  </tbody>\n",
       "</table>\n",
       "<p>774 rows × 11 columns</p>\n",
       "</div>"
      ],
      "text/plain": [
       "     Unnamed: 0                         Brand me  Ratings   RAM    ROM  \\\n",
       "0             0            LG V30+ (Black, 128 )      4.3   4.0  128.0   \n",
       "1             1                       I Kall K11      3.4   6.0   64.0   \n",
       "2             2                     Nokia 105 ss      4.3   4.0    4.0   \n",
       "3             3  Samsung Galaxy A50 (White, 64 )      4.4   6.0   64.0   \n",
       "4             4       POCO F1 (Steel Blue, 128 )      4.5   6.0  128.0   \n",
       "..          ...                              ...      ...   ...    ...   \n",
       "831         831             Karbonn K24 Plus Pro      3.8   6.0   32.0   \n",
       "832         832                  InFocus POWER 2      4.1   8.0   64.0   \n",
       "833         833  Alcatel 5V (Spectrum Blue, 32 )      4.4   3.0   32.0   \n",
       "834         834                      JIVI JV 12M      3.7  10.0   32.0   \n",
       "835         835                  Blacear B5 Grip      3.5   6.0   32.0   \n",
       "\n",
       "     Mobile_Size  Primary_Cam  Selfi_Cam  Battery_Power  Price Gender   \n",
       "0           6.00           48       13.0           4000  24999    Male  \n",
       "1           4.50           48       12.0           4000  15999  Female  \n",
       "2           4.50           64       16.0           4000  15000  Female  \n",
       "3           6.40           48       15.0           3800  18999    Male  \n",
       "4           6.18           35       15.0           3800  18999  Female  \n",
       "..           ...          ...        ...            ...    ...     ...  \n",
       "831         4.54           48       12.0           2800   1299    Male  \n",
       "832         4.54           64        NaN           2500   1390  Female  \n",
       "833         6.20           48        1.0           3800   9790    Male  \n",
       "834         4.50           64        NaN           3500    799  Female  \n",
       "835         4.50           64       15.0           1050    799    Male  \n",
       "\n",
       "[774 rows x 11 columns]"
      ]
     },
     "execution_count": 47,
     "metadata": {},
     "output_type": "execute_result"
    }
   ],
   "source": [
    "new_dataset =  dataset[dataset[\"Price\"]<=max_range] #Create a new dataset with rows where price <=max_range.\n",
    "new_dataset"
   ]
  },
  {
   "cell_type": "code",
   "execution_count": 48,
   "id": "abdb3ff5-bea1-486b-a3d6-3059cc1ff4cd",
   "metadata": {},
   "outputs": [
    {
     "data": {
      "text/plain": [
       "(774, 11)"
      ]
     },
     "execution_count": 48,
     "metadata": {},
     "output_type": "execute_result"
    }
   ],
   "source": [
    "new_dataset.shape"
   ]
  },
  {
   "cell_type": "code",
   "execution_count": 49,
   "id": "ff32a243-3c3b-4e91-974b-23bed180f32c",
   "metadata": {},
   "outputs": [
    {
     "data": {
      "image/png": "[encoded data removed]",
      "text/plain": [
       "<Figure size 640x480 with 1 Axes>"
      ]
     },
     "metadata": {},
     "output_type": "display_data"
    }
   ],
   "source": [
    "sns.boxplot(x = \"Price\", data=new_dataset)\n",
    "plt.show()"
   ]
  },
  {
   "cell_type": "code",
   "execution_count": null,
   "id": "ef898a42-be53-4728-9d45-36d2f1aa0473",
   "metadata": {},
   "outputs": [],
   "source": []
  },
  {
   "cell_type": "code",
   "execution_count": null,
   "id": "7b500823-714d-428b-abaf-900550b2bcff",
   "metadata": {},
   "outputs": [],
   "source": []
  }
 ],
 "metadata": {
  "kernelspec": {
   "display_name": "Python 3 (ipykernel)",
   "language": "python",
   "name": "python3"
  },
  "language_info": {
   "codemirror_mode": {
    "name": "ipython",
    "version": 3
   },
   "file_extension": ".py",
   "mimetype": "text/x-python",
   "name": "python",
   "nbconvert_exporter": "python",
   "pygments_lexer": "ipython3",
   "version": "3.12.0"
  }
 },
 "nbformat": 4,
 "nbformat_minor": 5
}
